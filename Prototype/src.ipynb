{
 "metadata": {
  "language_info": {
   "codemirror_mode": {
    "name": "ipython",
    "version": 3
   },
   "file_extension": ".py",
   "mimetype": "text/x-python",
   "name": "python",
   "nbconvert_exporter": "python",
   "pygments_lexer": "ipython3",
   "version": "3.8.0-final"
  },
  "orig_nbformat": 2,
  "kernelspec": {
   "name": "python3",
   "display_name": "Python 3.8.0 64-bit",
   "metadata": {
    "interpreter": {
     "hash": "38fc477159cab1605e86c95b3814e60efbdd6322b5803f74c9adb438cbb8c28e"
    }
   }
  }
 },
 "nbformat": 4,
 "nbformat_minor": 2,
 "cells": [
  {
   "cell_type": "code",
   "execution_count": 1,
   "metadata": {},
   "outputs": [
    {
     "output_type": "stream",
     "name": "stdout",
     "text": [
      "Reading Image...\nCalculating Gradient...\nInitializing Layers...\n"
     ]
    }
   ],
   "source": [
    "# Soft Color Segmentation Prorotype\n",
    "\n",
    "# The Algorithme is composed of three stages\n",
    "# 1. Color Unmixing\n",
    "# 2. Matte Regularisation\n",
    "# 3. Color Refinement\n",
    "\n",
    "import cv2\n",
    "from cv2.ximgproc import guidedFilter\n",
    "import numpy as np\n",
    "from scipy.stats import multivariate_normal\n",
    "from scipy.spatial.distance import mahalanobis\n",
    "import matplotlib.pyplot as plt\n",
    "import math\n",
    "import sys\n",
    "import threading\n",
    "import concurrent.futures\n",
    "\n",
    "# Returns Per Pixel Vote Results And Winner Bin\n",
    "def voteOnBin(img, gradient, representation_score, representation_threshold):\n",
    "    # Voting on the bins\n",
    "    votes_per_bin = {}\n",
    "    votes = np.zeros((img.shape[0], img.shape[1], 1))\n",
    "    nb_votes = 0\n",
    "    for j in range(img.shape[0]):\n",
    "        for i in range(img.shape[1]):\n",
    "            if representation_score[j, i] < representation_threshold:\n",
    "                continue\n",
    "            binn = pow(math.e, -gradient[j,i]) * (1 - pow(math.e, -representation_score[j,i]))\n",
    "            if isinstance(binn, np.ndarray):\n",
    "                binn = binn[0]\n",
    "            votes[j,i] = binn\n",
    "            nb_votes += 1\n",
    "            if binn in votes_per_bin:\n",
    "                votes_per_bin[binn] += 1\n",
    "            else:\n",
    "                votes_per_bin[binn] = 1\n",
    "\n",
    "    # Getting the most popular bin\n",
    "    if nb_votes == 0:\n",
    "        return -1, [], 0\n",
    "    votes_per_bin = dict(sorted(votes_per_bin.items(), key=lambda item:item[1], reverse=True))\n",
    "    winner_bin = list(votes_per_bin.items())[0][0]\n",
    "    return (winner_bin, votes, nb_votes)\n",
    "\n",
    "# Returns Pixels In Per Bin\n",
    "def getPopularBinPixelCoords(votes, bin):\n",
    "    # We Get All Pixels That Belong To The Bin\n",
    "    coords = []\n",
    "    for j in range(votes.shape[0]):\n",
    "        for i in range(votes.shape[1]):\n",
    "            if votes[j,i] == bin:\n",
    "                coords.append((j, i))\n",
    "    return coords\n",
    "\n",
    "# Returns Seed Pixel from a bin\n",
    "def getSeedPixel(img, coords, gradient, size=20):\n",
    "    # Getting The Next Seed Pixel\n",
    "    scores = []\n",
    "    for pixel in coords:\n",
    "        # 20x20 Kernel Limits\n",
    "        lower_h = pixel[0]+size if pixel[1]+size < img.shape[1] else img.shape[1]-1\n",
    "        higher_h = pixel[0]-size if pixel[1]-size >= 0 else 0\n",
    "\n",
    "        lower_l = pixel[1]-size if pixel[1]-size > 0 else 0\n",
    "        higher_l = pixel[1]+size if pixel[1]+size < img.shape[1] else img.shape[1]-1\n",
    "\n",
    "        S = 0\n",
    "        for j in range(lower_h, higher_h):\n",
    "            for i in range(lower_l, higher_l):\n",
    "                if votes[j,i] == winner_bin:\n",
    "                    S += 1\n",
    "        score = S*pow(math.e, -gradient[pixel])\n",
    "    scores.append(score)\n",
    "\n",
    "    # Getting The Pixel Coordinates With The Higher Score\n",
    "    seed_coords = coords[np.argmax(scores)]\n",
    "    return seed_coords\n",
    "\n",
    "# Returns distribution parameters\n",
    "def estimateDistribution(img, seed_coords, size=20):\n",
    "    # Distribution Estimation\n",
    "    lower_h = seed_coords[0]+size if seed_coords[0]+size < img.shape[1] else img.shape[1]-1\n",
    "    higher_h = seed_coords[0]-size if seed_coords[0]-size >= 0 else 0\n",
    "\n",
    "    lower_l = seed_coords[1]-size if seed_coords[1]-size > 0 else 0\n",
    "    higher_l = seed_coords[1]+size if seed_coords[1]+size < img.shape[1] else img.shape[1]-1\n",
    "\n",
    "    patch = img[higher_h:lower_h, lower_l:higher_l]\n",
    "    #dist_weights = guidedFilter(patch, patch, 20, 0.09)\n",
    "\n",
    "    mean_vector = np.mean(patch.reshape(-1, 3), axis=0)\n",
    "    covariance_matrix = np.cov(patch.reshape(-1, 3), rowvar=False, bias=True)\n",
    "\n",
    "    distribution = (mean_vector, covariance_matrix)\n",
    "    return distribution\n",
    "\n",
    "# Returns mahalanobis distance of image and distribution\n",
    "def getMahalanobis(img, distribution, representation_score):\n",
    "    Di = np.full((img.shape[0], img.shape[1]), 255)\n",
    "    # Foreach Pixel\n",
    "    for j in range(img.shape[0]):\n",
    "        for i in range(img.shape[1]):\n",
    "            # Inverting Covariance Matrix\n",
    "            if np.linalg.cond(distribution[1]) < 1/sys.float_info.epsilon:\n",
    "                inv_cov = np.linalg.inv(distribution[1])\n",
    "            else:\n",
    "                inv_cov = distribution[1]\n",
    "            # Calculating mahalanobis distance\n",
    "            Di[j,i] = np.minimum(representation_score[j,i], mahalanobis(img[j,i], distribution[0], inv_cov))\n",
    "    return Di.astype(int)\n",
    "\n",
    "#Reading Image\n",
    "print('Reading Image...')\n",
    "img = cv2.imread('assets/f.jpg')\n",
    "# width = int(img.shape[1] * 100 / 100)\n",
    "# height = int(img.shape[0] * 100 / 100)\n",
    "# dim = (height, width)\n",
    "#img = cv2.resize(img, dim)\n",
    "\n",
    "#Color Model Representation\n",
    "seeds = []\n",
    "alpha_layers = []\n",
    "color_layers = []\n",
    "distributions = []\n",
    "representation_scores = []\n",
    "representation_threshold = 25\n",
    "\n",
    "#Calculating image gradient\n",
    "print('Calculating Gradient...')\n",
    "img_gray = cv2.cvtColor(img, cv2.COLOR_BGR2GRAY)\n",
    "laplacian = cv2.Laplacian(img_gray,cv2.CV_64F)\n",
    "\n",
    "#Initialization\n",
    "print('Initializing Layers...')\n",
    "alpha_layers.append(np.ones((img.shape[0], img.shape[1], 1)))\n",
    "color_layers.append(np.copy(img))\n",
    "representation_scores.append(np.full((img.shape[0], img.shape[1], 1), 255))"
   ]
  },
  {
   "cell_type": "code",
   "execution_count": 2,
   "metadata": {},
   "outputs": [
    {
     "output_type": "stream",
     "name": "stdout",
     "text": [
      "Voting On Bin...\n",
      "Retreiving Pixel Coordinates...\n",
      "Finding Seed Pixel...\n",
      "Estimating Distribution...\n"
     ]
    }
   ],
   "source": [
    "# Getting Votes + Most Popular Bin\n",
    "print('Voting On Bin...')\n",
    "winner_bin, votes, nb_votes = voteOnBin(img, laplacian, representation_scores[-1], representation_threshold)\n",
    "\n",
    "# Getting Coordinates Of Pixels In The Winner Bin\n",
    "print('Retreiving Pixel Coordinates...')\n",
    "coords = getPopularBinPixelCoords(votes, winner_bin)\n",
    "\n",
    "# Getting The Next Seed Pixel\n",
    "print('Finding Seed Pixel...')\n",
    "seed_coords = getSeedPixel(img, coords, laplacian)\n",
    "seeds.append(seed_coords)\n",
    "\n",
    "# Getting Distribution Parameters\n",
    "print('Estimating Distribution...')\n",
    "distribution = estimateDistribution(img, seed_coords)\n",
    "distributions.append(distribution)"
   ]
  },
  {
   "source": [],
   "cell_type": "markdown",
   "metadata": {}
  },
  {
   "cell_type": "code",
   "execution_count": 7,
   "metadata": {},
   "outputs": [],
   "source": [
    "def estimateRepresentation(img, distributions, representation_score):\n",
    "    # Getting the minimum mahalanobis distance\n",
    "    minDi = getMahalanobis(img, distributions[-1], representation_score)\n",
    "    return minDi"
   ]
  },
  {
   "cell_type": "code",
   "execution_count": 8,
   "metadata": {},
   "outputs": [],
   "source": [
    "representation_score = np.empty((img.shape[0], img.shape[1]))\n",
    "# Multithreading\n",
    "nb_threads = 4\n",
    "step = math.ceil(img.shape[0]/nb_threads)\n",
    "with concurrent.futures.ThreadPoolExecutor(max_workers=4) as executor:\n",
    "    increment = 0\n",
    "    for index in range(nb_threads):\n",
    "        start = increment\n",
    "        finish = start+step if (start+step) <= img.shape[0] else img.shape[0]\n",
    "        future = executor.submit(estimateRepresentation, img[start:finish,:], distributions, representation_scores[-1][start:finish,:])\n",
    "        representation_score[start:finish,:] = future.result()\n",
    "        increment += step"
   ]
  },
  {
   "cell_type": "code",
   "execution_count": 9,
   "metadata": {},
   "outputs": [
    {
     "output_type": "execute_result",
     "data": {
      "text/plain": [
       "True"
      ]
     },
     "metadata": {},
     "execution_count": 9
    }
   ],
   "source": [
    "cv2.imwrite('rep.png', representation_score)"
   ]
  },
  {
   "cell_type": "code",
   "execution_count": null,
   "metadata": {},
   "outputs": [],
   "source": []
  }
 ]
}